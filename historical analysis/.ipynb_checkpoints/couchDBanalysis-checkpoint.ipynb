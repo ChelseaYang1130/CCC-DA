version https://git-lfs.github.com/spec/v1
oid sha256:8d9049ae0d7c58f02e8944d6cdd00fc0366df740087de48ea2f1a60e40471125
size 1336226
