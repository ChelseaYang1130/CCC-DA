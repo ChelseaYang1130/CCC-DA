version https://git-lfs.github.com/spec/v1
oid sha256:edac6da0cde25a0f13e6bd18dbbf8c22a41e4b92636d8faf5353086641319e06
size 94653
