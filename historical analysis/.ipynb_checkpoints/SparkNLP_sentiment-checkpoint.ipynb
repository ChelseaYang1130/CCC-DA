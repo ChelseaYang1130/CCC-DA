version https://git-lfs.github.com/spec/v1
oid sha256:31cdd1acd18cfd009c5b495165b3a6ea908e6bf6073430f2f871861c48a2fa90
size 14759
