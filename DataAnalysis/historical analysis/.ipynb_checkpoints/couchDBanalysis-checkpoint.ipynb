version https://git-lfs.github.com/spec/v1
oid sha256:49f8b91db79de3d9d5e6c43a8c2b8d1208a7aa18328456c41928554c0de7d263
size 917641
