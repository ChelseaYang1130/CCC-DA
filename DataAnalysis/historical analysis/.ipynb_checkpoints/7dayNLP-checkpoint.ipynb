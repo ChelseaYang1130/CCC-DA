version https://git-lfs.github.com/spec/v1
oid sha256:262b417460364c2d8cadc396d9ac88a16e4af7d586e536cd856ef1beeea6fcd5
size 96988
