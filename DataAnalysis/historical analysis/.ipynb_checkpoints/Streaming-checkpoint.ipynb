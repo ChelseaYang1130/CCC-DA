version https://git-lfs.github.com/spec/v1
oid sha256:fc6b73b8093fde45605c0c6f2f4a275ed68819c1c9014bd3000d0ba85c544735
size 5590
